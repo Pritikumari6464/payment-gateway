{
  "nbformat": 4,
  "nbformat_minor": 0,
  "metadata": {
    "colab": {
      "name": "DMDW_LAB",
      "provenance": [],
      "collapsed_sections": [],
      "authorship_tag": "ABX9TyM8yMayOD0+GLC/tZ6P2idO",
      "include_colab_link": true
    },
    "kernelspec": {
      "name": "python3",
      "display_name": "Python 3"
    },
    "language_info": {
      "name": "python"
    }
  },
  "cells": [
    {
      "cell_type": "markdown",
      "metadata": {
        "id": "view-in-github",
        "colab_type": "text"
      },
      "source": [
        "<a href=\"https://colab.research.google.com/github/Pritikumari6464/payment-gateway/blob/main/DMDW_LAB.ipynb\" target=\"_parent\"><img src=\"https://colab.research.google.com/assets/colab-badge.svg\" alt=\"Open In Colab\"/></a>"
      ]
    },
    {
      "cell_type": "code",
      "metadata": {
        "id": "xk6TVu4gBElJ"
      },
      "source": [
        ""
      ],
      "execution_count": null,
      "outputs": []
    },
    {
      "cell_type": "markdown",
      "metadata": {
        "id": "ErHRXuHlBSnm"
      },
      "source": [
        "Creating a pandas series"
      ]
    },
    {
      "cell_type": "code",
      "metadata": {
        "colab": {
          "base_uri": "https://localhost:8080/"
        },
        "id": "L4yQ7J5_BcRI",
        "outputId": "07310fc5-1b5e-4175-fc66-301eb3a8290f"
      },
      "source": [
        "import pandas as pd\n",
        "#Create a series \n",
        "S = pd.Series([1,2,3,4,5,6], index = ['A','B','C','D','E','F'])\n",
        "print(S)"
      ],
      "execution_count": 2,
      "outputs": [
        {
          "output_type": "stream",
          "name": "stdout",
          "text": [
            "A    1\n",
            "B    2\n",
            "C    3\n",
            "D    4\n",
            "E    5\n",
            "F    6\n",
            "dtype: int64\n"
          ]
        }
      ]
    },
    {
      "cell_type": "markdown",
      "metadata": {
        "id": "EQI_GmRkBOvT"
      },
      "source": [
        "Creating a pandas dataframe"
      ]
    },
    {
      "cell_type": "code",
      "metadata": {
        "id": "bGOtR_KgDf_G",
        "colab": {
          "base_uri": "https://localhost:8080/"
        },
        "outputId": "06f9a72a-619f-45d0-905b-2b44b44bb842"
      },
      "source": [
        "import pandas as pd\n",
        "#Creating a dataframe\n",
        "data  = {'Gender': ['F','M','M'],'Emp_ID': ['E01','E02','E03'], 'Age': [25,26,25]}\n",
        "df = pd.DataFrame(data, columns = ['Emp_ID','Gender','Age'])\n",
        "print(df)"
      ],
      "execution_count": 5,
      "outputs": [
        {
          "output_type": "stream",
          "name": "stdout",
          "text": [
            "  Emp_ID Gender  Age\n",
            "0    E01      F   25\n",
            "1    E02      M   26\n",
            "2    E03      M   25\n"
          ]
        }
      ]
    }
  ]
}